{
 "cells": [
  {
   "cell_type": "markdown",
   "metadata": {
    "id": "cJdp3B_SGk7T"
   },
   "source": [
    "# **MÓDULO 15 - Exercício**\n",
    "# Análise  - A segunda etapa da Pré Modelagem"
   ]
  },
  {
   "cell_type": "markdown",
   "metadata": {
    "id": "1OirkvkeGuGg"
   },
   "source": [
    "# 1) O primeiro exercício é o de salvar a base que criaram na atividade do módulo anterior em csv e abrir ela neste arquivo.\n",
    "Igual fizemos no início do módulo atual no início da primeira aula."
   ]
  },
  {
   "cell_type": "code",
   "execution_count": 15,
   "metadata": {
    "id": "5ejO5WSgnhFs"
   },
   "outputs": [],
   "source": [
    "import seaborn as sns\n",
    "import matplotlib.pyplot as plt\n",
    "import pandas as pd\n",
    "import numpy as np\n",
    "import plotly.express as px"
   ]
  },
  {
   "cell_type": "code",
   "execution_count": 61,
   "metadata": {
    "id": "UD3a_pq7py5G"
   },
   "outputs": [
    {
     "data": {
      "text/html": [
       "<div>\n",
       "<style scoped>\n",
       "    .dataframe tbody tr th:only-of-type {\n",
       "        vertical-align: middle;\n",
       "    }\n",
       "\n",
       "    .dataframe tbody tr th {\n",
       "        vertical-align: top;\n",
       "    }\n",
       "\n",
       "    .dataframe thead th {\n",
       "        text-align: right;\n",
       "    }\n",
       "</style>\n",
       "<table border=\"1\" class=\"dataframe\">\n",
       "  <thead>\n",
       "    <tr style=\"text-align: right;\">\n",
       "      <th></th>\n",
       "      <th>Genero</th>\n",
       "      <th>Idoso</th>\n",
       "      <th>Casado</th>\n",
       "      <th>Dependentes</th>\n",
       "      <th>Tempo_como_Cliente</th>\n",
       "      <th>Servico_Telefone</th>\n",
       "      <th>Servico_Internet</th>\n",
       "      <th>Servico_Seguranca</th>\n",
       "      <th>Suporte_Tecnico</th>\n",
       "      <th>Servico_Streaming</th>\n",
       "      <th>Tipo_Contrato</th>\n",
       "      <th>Metodo_Pagamento</th>\n",
       "      <th>Pagamento_Mensal</th>\n",
       "      <th>Total_Pago</th>\n",
       "      <th>Churn</th>\n",
       "    </tr>\n",
       "  </thead>\n",
       "  <tbody>\n",
       "    <tr>\n",
       "      <th>0</th>\n",
       "      <td>FEMALE</td>\n",
       "      <td>0</td>\n",
       "      <td>1</td>\n",
       "      <td>0</td>\n",
       "      <td>1</td>\n",
       "      <td>0</td>\n",
       "      <td>DSL</td>\n",
       "      <td>No</td>\n",
       "      <td>No</td>\n",
       "      <td>No</td>\n",
       "      <td>MONTH-TO-MONTH</td>\n",
       "      <td>ELECTRONIC CHECK</td>\n",
       "      <td>29.85</td>\n",
       "      <td>29.85</td>\n",
       "      <td>No</td>\n",
       "    </tr>\n",
       "    <tr>\n",
       "      <th>1</th>\n",
       "      <td>MALE</td>\n",
       "      <td>0</td>\n",
       "      <td>0</td>\n",
       "      <td>0</td>\n",
       "      <td>34</td>\n",
       "      <td>1</td>\n",
       "      <td>DSL</td>\n",
       "      <td>Yes</td>\n",
       "      <td>No</td>\n",
       "      <td>No</td>\n",
       "      <td>ONE YEAR</td>\n",
       "      <td>MAILED CHECK</td>\n",
       "      <td>56.95</td>\n",
       "      <td>1889.50</td>\n",
       "      <td>No</td>\n",
       "    </tr>\n",
       "    <tr>\n",
       "      <th>2</th>\n",
       "      <td>MALE</td>\n",
       "      <td>0</td>\n",
       "      <td>0</td>\n",
       "      <td>0</td>\n",
       "      <td>2</td>\n",
       "      <td>1</td>\n",
       "      <td>DSL</td>\n",
       "      <td>Yes</td>\n",
       "      <td>No</td>\n",
       "      <td>No</td>\n",
       "      <td>MONTH-TO-MONTH</td>\n",
       "      <td>MAILED CHECK</td>\n",
       "      <td>53.85</td>\n",
       "      <td>108.15</td>\n",
       "      <td>Yes</td>\n",
       "    </tr>\n",
       "    <tr>\n",
       "      <th>3</th>\n",
       "      <td>MALE</td>\n",
       "      <td>0</td>\n",
       "      <td>0</td>\n",
       "      <td>0</td>\n",
       "      <td>45</td>\n",
       "      <td>0</td>\n",
       "      <td>DSL</td>\n",
       "      <td>Yes</td>\n",
       "      <td>Yes</td>\n",
       "      <td>No</td>\n",
       "      <td>ONE YEAR</td>\n",
       "      <td>BANK TRANSFER (AUTOMATIC)</td>\n",
       "      <td>71.45</td>\n",
       "      <td>1840.75</td>\n",
       "      <td>No</td>\n",
       "    </tr>\n",
       "    <tr>\n",
       "      <th>4</th>\n",
       "      <td>FEMALE</td>\n",
       "      <td>0</td>\n",
       "      <td>0</td>\n",
       "      <td>0</td>\n",
       "      <td>52</td>\n",
       "      <td>1</td>\n",
       "      <td>NO</td>\n",
       "      <td>No internet service</td>\n",
       "      <td>No internet service</td>\n",
       "      <td>No internet service</td>\n",
       "      <td>ONE YEAR</td>\n",
       "      <td>MAILED CHECK</td>\n",
       "      <td>71.45</td>\n",
       "      <td>1022.95</td>\n",
       "      <td>No</td>\n",
       "    </tr>\n",
       "    <tr>\n",
       "      <th>5</th>\n",
       "      <td>MALE</td>\n",
       "      <td>0</td>\n",
       "      <td>0</td>\n",
       "      <td>1</td>\n",
       "      <td>71</td>\n",
       "      <td>1</td>\n",
       "      <td>FIBER OPTIC</td>\n",
       "      <td>Yes</td>\n",
       "      <td>No</td>\n",
       "      <td>Yes</td>\n",
       "      <td>TWO YEAR</td>\n",
       "      <td>BANK TRANSFER (AUTOMATIC)</td>\n",
       "      <td>71.45</td>\n",
       "      <td>7382.25</td>\n",
       "      <td>No</td>\n",
       "    </tr>\n",
       "    <tr>\n",
       "      <th>6</th>\n",
       "      <td>FEMALE</td>\n",
       "      <td>0</td>\n",
       "      <td>1</td>\n",
       "      <td>1</td>\n",
       "      <td>10</td>\n",
       "      <td>1</td>\n",
       "      <td>DSL</td>\n",
       "      <td>No</td>\n",
       "      <td>Yes</td>\n",
       "      <td>No</td>\n",
       "      <td>MONTH-TO-MONTH</td>\n",
       "      <td>CREDIT CARD (AUTOMATIC)</td>\n",
       "      <td>71.45</td>\n",
       "      <td>528.35</td>\n",
       "      <td>Yes</td>\n",
       "    </tr>\n",
       "    <tr>\n",
       "      <th>7</th>\n",
       "      <td>FEMALE</td>\n",
       "      <td>0</td>\n",
       "      <td>0</td>\n",
       "      <td>0</td>\n",
       "      <td>21</td>\n",
       "      <td>1</td>\n",
       "      <td>FIBER OPTIC</td>\n",
       "      <td>No</td>\n",
       "      <td>No</td>\n",
       "      <td>No</td>\n",
       "      <td>MONTH-TO-MONTH</td>\n",
       "      <td>ELECTRONIC CHECK</td>\n",
       "      <td>71.45</td>\n",
       "      <td>1862.90</td>\n",
       "      <td>No</td>\n",
       "    </tr>\n",
       "    <tr>\n",
       "      <th>8</th>\n",
       "      <td>MALE</td>\n",
       "      <td>1</td>\n",
       "      <td>0</td>\n",
       "      <td>0</td>\n",
       "      <td>1</td>\n",
       "      <td>0</td>\n",
       "      <td>DSL</td>\n",
       "      <td>No</td>\n",
       "      <td>No</td>\n",
       "      <td>No</td>\n",
       "      <td>MONTH-TO-MONTH</td>\n",
       "      <td>ELECTRONIC CHECK</td>\n",
       "      <td>71.45</td>\n",
       "      <td>39.65</td>\n",
       "      <td>Yes</td>\n",
       "    </tr>\n",
       "    <tr>\n",
       "      <th>9</th>\n",
       "      <td>MALE</td>\n",
       "      <td>0</td>\n",
       "      <td>1</td>\n",
       "      <td>0</td>\n",
       "      <td>12</td>\n",
       "      <td>1</td>\n",
       "      <td>NO</td>\n",
       "      <td>No internet service</td>\n",
       "      <td>No internet service</td>\n",
       "      <td>No internet service</td>\n",
       "      <td>ONE YEAR</td>\n",
       "      <td>BANK TRANSFER (AUTOMATIC)</td>\n",
       "      <td>71.45</td>\n",
       "      <td>202.25</td>\n",
       "      <td>No</td>\n",
       "    </tr>\n",
       "    <tr>\n",
       "      <th>10</th>\n",
       "      <td>MALE</td>\n",
       "      <td>0</td>\n",
       "      <td>0</td>\n",
       "      <td>0</td>\n",
       "      <td>1</td>\n",
       "      <td>1</td>\n",
       "      <td>NO</td>\n",
       "      <td>No internet service</td>\n",
       "      <td>No internet service</td>\n",
       "      <td>No internet service</td>\n",
       "      <td>MONTH-TO-MONTH</td>\n",
       "      <td>MAILED CHECK</td>\n",
       "      <td>71.45</td>\n",
       "      <td>20.15</td>\n",
       "      <td>Yes</td>\n",
       "    </tr>\n",
       "    <tr>\n",
       "      <th>11</th>\n",
       "      <td>FEMALE</td>\n",
       "      <td>0</td>\n",
       "      <td>1</td>\n",
       "      <td>0</td>\n",
       "      <td>58</td>\n",
       "      <td>1</td>\n",
       "      <td>DSL</td>\n",
       "      <td>No</td>\n",
       "      <td>Yes</td>\n",
       "      <td>No</td>\n",
       "      <td>TWO YEAR</td>\n",
       "      <td>CREDIT CARD (AUTOMATIC)</td>\n",
       "      <td>71.45</td>\n",
       "      <td>3505.10</td>\n",
       "      <td>No</td>\n",
       "    </tr>\n",
       "    <tr>\n",
       "      <th>12</th>\n",
       "      <td>MALE</td>\n",
       "      <td>0</td>\n",
       "      <td>1</td>\n",
       "      <td>1</td>\n",
       "      <td>49</td>\n",
       "      <td>1</td>\n",
       "      <td>DSL</td>\n",
       "      <td>Yes</td>\n",
       "      <td>Yes</td>\n",
       "      <td>No</td>\n",
       "      <td>MONTH-TO-MONTH</td>\n",
       "      <td>CREDIT CARD (AUTOMATIC)</td>\n",
       "      <td>71.45</td>\n",
       "      <td>2970.30</td>\n",
       "      <td>No</td>\n",
       "    </tr>\n",
       "    <tr>\n",
       "      <th>13</th>\n",
       "      <td>FEMALE</td>\n",
       "      <td>0</td>\n",
       "      <td>0</td>\n",
       "      <td>0</td>\n",
       "      <td>30</td>\n",
       "      <td>1</td>\n",
       "      <td>DSL</td>\n",
       "      <td>Yes</td>\n",
       "      <td>No</td>\n",
       "      <td>No</td>\n",
       "      <td>MONTH-TO-MONTH</td>\n",
       "      <td>BANK TRANSFER (AUTOMATIC)</td>\n",
       "      <td>71.45</td>\n",
       "      <td>1530.60</td>\n",
       "      <td>No</td>\n",
       "    </tr>\n",
       "    <tr>\n",
       "      <th>14</th>\n",
       "      <td>MALE</td>\n",
       "      <td>0</td>\n",
       "      <td>1</td>\n",
       "      <td>1</td>\n",
       "      <td>47</td>\n",
       "      <td>1</td>\n",
       "      <td>FIBER OPTIC</td>\n",
       "      <td>No</td>\n",
       "      <td>No</td>\n",
       "      <td>Yes</td>\n",
       "      <td>MONTH-TO-MONTH</td>\n",
       "      <td>ELECTRONIC CHECK</td>\n",
       "      <td>71.45</td>\n",
       "      <td>4749.15</td>\n",
       "      <td>Yes</td>\n",
       "    </tr>\n",
       "  </tbody>\n",
       "</table>\n",
       "</div>"
      ],
      "text/plain": [
       "    Genero  Idoso  Casado  Dependentes  Tempo_como_Cliente  Servico_Telefone  \\\n",
       "0   FEMALE      0       1            0                   1                 0   \n",
       "1     MALE      0       0            0                  34                 1   \n",
       "2     MALE      0       0            0                   2                 1   \n",
       "3     MALE      0       0            0                  45                 0   \n",
       "4   FEMALE      0       0            0                  52                 1   \n",
       "5     MALE      0       0            1                  71                 1   \n",
       "6   FEMALE      0       1            1                  10                 1   \n",
       "7   FEMALE      0       0            0                  21                 1   \n",
       "8     MALE      1       0            0                   1                 0   \n",
       "9     MALE      0       1            0                  12                 1   \n",
       "10    MALE      0       0            0                   1                 1   \n",
       "11  FEMALE      0       1            0                  58                 1   \n",
       "12    MALE      0       1            1                  49                 1   \n",
       "13  FEMALE      0       0            0                  30                 1   \n",
       "14    MALE      0       1            1                  47                 1   \n",
       "\n",
       "   Servico_Internet    Servico_Seguranca      Suporte_Tecnico  \\\n",
       "0               DSL                   No                   No   \n",
       "1               DSL                  Yes                   No   \n",
       "2               DSL                  Yes                   No   \n",
       "3               DSL                  Yes                  Yes   \n",
       "4                NO  No internet service  No internet service   \n",
       "5       FIBER OPTIC                  Yes                   No   \n",
       "6               DSL                   No                  Yes   \n",
       "7       FIBER OPTIC                   No                   No   \n",
       "8               DSL                   No                   No   \n",
       "9                NO  No internet service  No internet service   \n",
       "10               NO  No internet service  No internet service   \n",
       "11              DSL                   No                  Yes   \n",
       "12              DSL                  Yes                  Yes   \n",
       "13              DSL                  Yes                   No   \n",
       "14      FIBER OPTIC                   No                   No   \n",
       "\n",
       "      Servico_Streaming   Tipo_Contrato           Metodo_Pagamento  \\\n",
       "0                    No  MONTH-TO-MONTH           ELECTRONIC CHECK   \n",
       "1                    No        ONE YEAR               MAILED CHECK   \n",
       "2                    No  MONTH-TO-MONTH               MAILED CHECK   \n",
       "3                    No        ONE YEAR  BANK TRANSFER (AUTOMATIC)   \n",
       "4   No internet service        ONE YEAR               MAILED CHECK   \n",
       "5                   Yes        TWO YEAR  BANK TRANSFER (AUTOMATIC)   \n",
       "6                    No  MONTH-TO-MONTH    CREDIT CARD (AUTOMATIC)   \n",
       "7                    No  MONTH-TO-MONTH           ELECTRONIC CHECK   \n",
       "8                    No  MONTH-TO-MONTH           ELECTRONIC CHECK   \n",
       "9   No internet service        ONE YEAR  BANK TRANSFER (AUTOMATIC)   \n",
       "10  No internet service  MONTH-TO-MONTH               MAILED CHECK   \n",
       "11                   No        TWO YEAR    CREDIT CARD (AUTOMATIC)   \n",
       "12                   No  MONTH-TO-MONTH    CREDIT CARD (AUTOMATIC)   \n",
       "13                   No  MONTH-TO-MONTH  BANK TRANSFER (AUTOMATIC)   \n",
       "14                  Yes  MONTH-TO-MONTH           ELECTRONIC CHECK   \n",
       "\n",
       "    Pagamento_Mensal  Total_Pago Churn  \n",
       "0              29.85       29.85    No  \n",
       "1              56.95     1889.50    No  \n",
       "2              53.85      108.15   Yes  \n",
       "3              71.45     1840.75    No  \n",
       "4              71.45     1022.95    No  \n",
       "5              71.45     7382.25    No  \n",
       "6              71.45      528.35   Yes  \n",
       "7              71.45     1862.90    No  \n",
       "8              71.45       39.65   Yes  \n",
       "9              71.45      202.25    No  \n",
       "10             71.45       20.15   Yes  \n",
       "11             71.45     3505.10    No  \n",
       "12             71.45     2970.30    No  \n",
       "13             71.45     1530.60    No  \n",
       "14             71.45     4749.15   Yes  "
      ]
     },
     "execution_count": 61,
     "metadata": {},
     "output_type": "execute_result"
    }
   ],
   "source": [
    "#Seu código de importação aqui\n",
    "df = pd.read_csv('CHURN_TELECON_M15.csv')\n",
    "\n",
    "# Verificando se é realmente o dataframe tratado anteriormente\n",
    "df.head(15)"
   ]
  },
  {
   "cell_type": "code",
   "execution_count": 63,
   "metadata": {},
   "outputs": [],
   "source": [
    "# Identificado que Churn não está booleano, vamos tratar.\n",
    "\n",
    "df['Churn'] = df['Churn'].replace('No', 0)\n",
    "df['Churn'] = df['Churn'].replace('Yes', 1)\n",
    "\n",
    "df['Churn'] = df['Churn'].astype(int)"
   ]
  },
  {
   "cell_type": "markdown",
   "metadata": {
    "id": "3O70nJb2HNP2"
   },
   "source": [
    "# 2) Comece pela análise univariada:\n",
    "\n",
    "A) Utilize a função describe no seu dataframe, veja os insights que consegue retirar.\n",
    "\n",
    "B) Já é possível identificar variáveis com possíveis outliers? Se sim, quais?\n",
    "\n",
    "C) Plot gráficos que considerar importante para completar sua análise univariada. (Lembrando que sua variável preditora é o churn). Não se esqueça de trazer insights de cada gráfico plotado. Utilize pelo menos 4 variáveis distintas.\n",
    "\n",
    "D) Verifique se os dados das variáveis Booleanas são balanceados ou não."
   ]
  },
  {
   "cell_type": "code",
   "execution_count": 64,
   "metadata": {
    "id": "unW8WDrlGBFE"
   },
   "outputs": [
    {
     "data": {
      "text/html": [
       "<div>\n",
       "<style scoped>\n",
       "    .dataframe tbody tr th:only-of-type {\n",
       "        vertical-align: middle;\n",
       "    }\n",
       "\n",
       "    .dataframe tbody tr th {\n",
       "        vertical-align: top;\n",
       "    }\n",
       "\n",
       "    .dataframe thead th {\n",
       "        text-align: right;\n",
       "    }\n",
       "</style>\n",
       "<table border=\"1\" class=\"dataframe\">\n",
       "  <thead>\n",
       "    <tr style=\"text-align: right;\">\n",
       "      <th></th>\n",
       "      <th>Idoso</th>\n",
       "      <th>Casado</th>\n",
       "      <th>Dependentes</th>\n",
       "      <th>Tempo_como_Cliente</th>\n",
       "      <th>Servico_Telefone</th>\n",
       "      <th>Pagamento_Mensal</th>\n",
       "      <th>Total_Pago</th>\n",
       "      <th>Churn</th>\n",
       "    </tr>\n",
       "  </thead>\n",
       "  <tbody>\n",
       "    <tr>\n",
       "      <th>count</th>\n",
       "      <td>2488.000000</td>\n",
       "      <td>2488.000000</td>\n",
       "      <td>2488.000000</td>\n",
       "      <td>2488.000000</td>\n",
       "      <td>2488.000000</td>\n",
       "      <td>2488.000000</td>\n",
       "      <td>2488.000000</td>\n",
       "      <td>2488.000000</td>\n",
       "    </tr>\n",
       "    <tr>\n",
       "      <th>mean</th>\n",
       "      <td>0.161576</td>\n",
       "      <td>0.492765</td>\n",
       "      <td>0.314711</td>\n",
       "      <td>32.352090</td>\n",
       "      <td>0.965434</td>\n",
       "      <td>66.342564</td>\n",
       "      <td>2290.087178</td>\n",
       "      <td>0.260048</td>\n",
       "    </tr>\n",
       "    <tr>\n",
       "      <th>std</th>\n",
       "      <td>0.368135</td>\n",
       "      <td>0.500048</td>\n",
       "      <td>0.464494</td>\n",
       "      <td>24.636885</td>\n",
       "      <td>0.182714</td>\n",
       "      <td>28.051718</td>\n",
       "      <td>2264.585643</td>\n",
       "      <td>0.438749</td>\n",
       "    </tr>\n",
       "    <tr>\n",
       "      <th>min</th>\n",
       "      <td>0.000000</td>\n",
       "      <td>0.000000</td>\n",
       "      <td>0.000000</td>\n",
       "      <td>0.000000</td>\n",
       "      <td>0.000000</td>\n",
       "      <td>18.400000</td>\n",
       "      <td>18.800000</td>\n",
       "      <td>0.000000</td>\n",
       "    </tr>\n",
       "    <tr>\n",
       "      <th>25%</th>\n",
       "      <td>0.000000</td>\n",
       "      <td>0.000000</td>\n",
       "      <td>0.000000</td>\n",
       "      <td>8.000000</td>\n",
       "      <td>1.000000</td>\n",
       "      <td>45.400000</td>\n",
       "      <td>402.337500</td>\n",
       "      <td>0.000000</td>\n",
       "    </tr>\n",
       "    <tr>\n",
       "      <th>50%</th>\n",
       "      <td>0.000000</td>\n",
       "      <td>0.000000</td>\n",
       "      <td>0.000000</td>\n",
       "      <td>29.000000</td>\n",
       "      <td>1.000000</td>\n",
       "      <td>71.450000</td>\n",
       "      <td>1402.900000</td>\n",
       "      <td>0.000000</td>\n",
       "    </tr>\n",
       "    <tr>\n",
       "      <th>75%</th>\n",
       "      <td>0.000000</td>\n",
       "      <td>1.000000</td>\n",
       "      <td>1.000000</td>\n",
       "      <td>56.000000</td>\n",
       "      <td>1.000000</td>\n",
       "      <td>87.712500</td>\n",
       "      <td>3867.162500</td>\n",
       "      <td>1.000000</td>\n",
       "    </tr>\n",
       "    <tr>\n",
       "      <th>max</th>\n",
       "      <td>1.000000</td>\n",
       "      <td>1.000000</td>\n",
       "      <td>1.000000</td>\n",
       "      <td>72.000000</td>\n",
       "      <td>1.000000</td>\n",
       "      <td>118.650000</td>\n",
       "      <td>8564.750000</td>\n",
       "      <td>1.000000</td>\n",
       "    </tr>\n",
       "  </tbody>\n",
       "</table>\n",
       "</div>"
      ],
      "text/plain": [
       "             Idoso       Casado  Dependentes  Tempo_como_Cliente  \\\n",
       "count  2488.000000  2488.000000  2488.000000         2488.000000   \n",
       "mean      0.161576     0.492765     0.314711           32.352090   \n",
       "std       0.368135     0.500048     0.464494           24.636885   \n",
       "min       0.000000     0.000000     0.000000            0.000000   \n",
       "25%       0.000000     0.000000     0.000000            8.000000   \n",
       "50%       0.000000     0.000000     0.000000           29.000000   \n",
       "75%       0.000000     1.000000     1.000000           56.000000   \n",
       "max       1.000000     1.000000     1.000000           72.000000   \n",
       "\n",
       "       Servico_Telefone  Pagamento_Mensal   Total_Pago        Churn  \n",
       "count       2488.000000       2488.000000  2488.000000  2488.000000  \n",
       "mean           0.965434         66.342564  2290.087178     0.260048  \n",
       "std            0.182714         28.051718  2264.585643     0.438749  \n",
       "min            0.000000         18.400000    18.800000     0.000000  \n",
       "25%            1.000000         45.400000   402.337500     0.000000  \n",
       "50%            1.000000         71.450000  1402.900000     0.000000  \n",
       "75%            1.000000         87.712500  3867.162500     1.000000  \n",
       "max            1.000000        118.650000  8564.750000     1.000000  "
      ]
     },
     "execution_count": 64,
     "metadata": {},
     "output_type": "execute_result"
    }
   ],
   "source": [
    "# A) Utilize a função describe no seu dataframe, veja os insights que consegue retirar.\n",
    "df.describe()\n",
    "\n",
    "# B) Já é possível identificar variáveis com possíveis outliers? Se sim, quais?"
   ]
  },
  {
   "cell_type": "markdown",
   "metadata": {},
   "source": [
    "Vemos que o tempo como cliente, o valor máximo se distancia muito da média. Será que temos algum cliente antigo puxando essa média pra cima?\n",
    "\n",
    "Temos também a média entre 0 e 1 de Idoso (sim ou não) muito mais próximo de zero. Podemos encontrar alguns dados interessantes relacionados a idade?\n",
    "\n",
    "Apesar da média de Casado e Dependentes serem um pouco distantes, a distribuição quaternária é muito parecida. Será que existe alguma relação?\n",
    "\n",
    "O Tempo_como_Cliente influencia muito no Total_Pago, ou o que manda é o Pagamento_Mensal?\n",
    "\n",
    "O valor máximo do Pagamento_Mensal é o dobro da média, porém do Total_Pago é quase 4x maior. Será que temos algum Outlier nos totais pagos?"
   ]
  },
  {
   "cell_type": "code",
   "execution_count": 65,
   "metadata": {},
   "outputs": [
    {
     "name": "stdout",
     "output_type": "stream",
     "text": [
      "<class 'pandas.core.frame.DataFrame'>\n",
      "RangeIndex: 2488 entries, 0 to 2487\n",
      "Data columns (total 15 columns):\n",
      " #   Column              Non-Null Count  Dtype  \n",
      "---  ------              --------------  -----  \n",
      " 0   Genero              2488 non-null   object \n",
      " 1   Idoso               2488 non-null   int64  \n",
      " 2   Casado              2488 non-null   int64  \n",
      " 3   Dependentes         2488 non-null   int64  \n",
      " 4   Tempo_como_Cliente  2488 non-null   int64  \n",
      " 5   Servico_Telefone    2488 non-null   int64  \n",
      " 6   Servico_Internet    2488 non-null   object \n",
      " 7   Servico_Seguranca   2488 non-null   object \n",
      " 8   Suporte_Tecnico     2488 non-null   object \n",
      " 9   Servico_Streaming   2488 non-null   object \n",
      " 10  Tipo_Contrato       2488 non-null   object \n",
      " 11  Metodo_Pagamento    2488 non-null   object \n",
      " 12  Pagamento_Mensal    2488 non-null   float64\n",
      " 13  Total_Pago          2488 non-null   float64\n",
      " 14  Churn               2488 non-null   int32  \n",
      "dtypes: float64(2), int32(1), int64(5), object(7)\n",
      "memory usage: 282.0+ KB\n"
     ]
    }
   ],
   "source": [
    "# C) Plot gráficos que considerar importante para completar sua análise univariada. (Lembrando que sua variável preditora é o churn).\n",
    "# Não se esqueça de trazer insights de cada gráfico plotado. Utilize pelo menos 4 variáveis distintas.\n",
    "\n",
    "# Relembrando os campos\n",
    "df.info()"
   ]
  },
  {
   "cell_type": "code",
   "execution_count": 66,
   "metadata": {},
   "outputs": [
    {
     "data": {
      "image/png": "[encoded data removed]",
      "text/plain": [
       "<Figure size 640x480 with 1 Axes>"
      ]
     },
     "metadata": {},
     "output_type": "display_data"
    }
   ],
   "source": [
    "# Utilizando o boxplot para enxergar a distribuição dos dados\n",
    "\n",
    "df.boxplot(column='Total_Pago')\n",
    "plt.title('Boxplot de Total_Pago', fontsize=16)\n",
    "plt.ylabel('Valores')\n",
    "plt.show()"
   ]
  },
  {
   "cell_type": "markdown",
   "metadata": {},
   "source": [
    "Notamos que apesar de ter alguns com valores bem altos, a maior distribuição fica entre 500 e 3900 e mesmo valores como 8000 não chega a ser um outlier."
   ]
  },
  {
   "cell_type": "code",
   "execution_count": 31,
   "metadata": {},
   "outputs": [
    {
     "data": {
      "image/png": "[encoded data removed]",
      "text/plain": [
       "<Figure size 640x480 with 1 Axes>"
      ]
     },
     "metadata": {},
     "output_type": "display_data"
    }
   ],
   "source": [
    "df.boxplot('Tempo_como_Cliente')\n",
    "plt.title('Boxplot de Tempo_como_Cliente', fontsize=16)\n",
    "plt.ylabel('Tempo como Cliente em meses')\n",
    "plt.show()"
   ]
  },
  {
   "cell_type": "markdown",
   "metadata": {},
   "source": [
    "Tempo_como_Cliente também não temos nenhum dado discrepante. Mas acho interessante analisar o tempo em meses dos clientes abaixo de 10 meses, para tentar entender um pouco melhor."
   ]
  },
  {
   "cell_type": "code",
   "execution_count": 41,
   "metadata": {},
   "outputs": [
    {
     "data": {
      "image/png": "[encoded data removed]",
      "text/plain": [
       "<Figure size 640x480 with 1 Axes>"
      ]
     },
     "metadata": {},
     "output_type": "display_data"
    }
   ],
   "source": [
    "# Selecionando todos os clientes com menos de 10 meses\n",
    "df_menos_que_dez_meses = df[df['Tempo_como_Cliente'] <= 10]\n",
    "\n",
    "# Contando os dados e ordenando pelo eixo X\n",
    "contagem = df_menos_que_dez_meses['Tempo_como_Cliente'].value_counts().sort_index()\n",
    "\n",
    "ax = contagem.plot(kind='bar')\n",
    "plt.title('Frequência de clientes por Tempo_como_Cliente', fontsize=13)\n",
    "plt.ylabel('Contagem')\n",
    "plt.xlabel('Tempo em meses')\n",
    "plt.show()"
   ]
  },
  {
   "cell_type": "markdown",
   "metadata": {},
   "source": [
    "Podemos ver que dentre todos os meses de tempo como cliente abaixo de 10 meses, temos um grande número de clientes cadastrados no mês passado. São clientes novos ou clientes que desistiram? Podemos analisar posteriormente comparando com a coluna Churn"
   ]
  },
  {
   "cell_type": "code",
   "execution_count": 56,
   "metadata": {},
   "outputs": [
    {
     "data": {
      "image/png": "[encoded data removed]",
      "text/plain": [
       "<Figure size 640x480 with 1 Axes>"
      ]
     },
     "metadata": {},
     "output_type": "display_data"
    }
   ],
   "source": [
    "# Vamos analisar a distribuição dos nossos clientes entre idosos e não idosos.abs\n",
    "\n",
    "contagem_idoso = df['Idoso'].value_counts()\n",
    "\n",
    "ax = contagem_idoso.plot(kind='bar')\n",
    "plt.xticks(ticks=[0, 1], labels=['Não Idoso', 'Idoso'], rotation=0)\n",
    "plt.title('Frequência de Clientes Idosos e Não Idosos')\n",
    "plt.xlabel('')\n",
    "plt.ylabel('Frequência')\n",
    "plt.show()"
   ]
  },
  {
   "cell_type": "markdown",
   "metadata": {},
   "source": [
    "Temos a maior parte para não idosos do que idosos. Será que a baixa quantidade de idosos foram porque deram Churn? E os maiores Tempos_como_Clientes, são pessoas mais velhas ou mais jovens? Podemos analisar na Análise Bivariada posteriormente"
   ]
  },
  {
   "cell_type": "code",
   "execution_count": 71,
   "metadata": {},
   "outputs": [
    {
     "data": {
      "image/png": "[encoded data removed]",
      "text/plain": [
       "<Figure size 640x480 with 1 Axes>"
      ]
     },
     "metadata": {},
     "output_type": "display_data"
    }
   ],
   "source": [
    "# Analisando Total_Pago\n",
    "\n",
    "df.boxplot('Pagamento_Mensal')\n",
    "plt.title('Boxplot de Pagamento_Mensal')\n",
    "plt.ylabel('Valor')\n",
    "plt.show()"
   ]
  },
  {
   "cell_type": "markdown",
   "metadata": {
    "id": "kQ8r3_LVH_EJ"
   },
   "source": [
    "# 3) Identifique e trate as colunas que contém outliers.\n",
    "Caso opte por mante-los ou altera-los justifique sua escolha.\n"
   ]
  },
  {
   "cell_type": "code",
   "execution_count": null,
   "metadata": {
    "id": "hL9I5plcGEAA"
   },
   "outputs": [],
   "source": [
    "#Seu código aqui"
   ]
  },
  {
   "cell_type": "markdown",
   "metadata": {
    "id": "l7XwsuFpIWKB"
   },
   "source": [
    "# 4) Realize a etapa da análise bivariada:\n",
    "A) Questione pelo menos 5 informações e traga as respostas utilizando visuais gráficos e insights.\n",
    "\n",
    "\n",
    "B) Quais variáveis você acredita serem as mais importantes para esse projetos relacionadas a variável Churn?"
   ]
  },
  {
   "cell_type": "code",
   "execution_count": null,
   "metadata": {
    "id": "7APnjGTNGHYb"
   },
   "outputs": [],
   "source": [
    "#Seu código aqui"
   ]
  }
 ],
 "metadata": {
  "colab": {
   "provenance": []
  },
  "kernelspec": {
   "display_name": "Python 3 (ipykernel)",
   "language": "python",
   "name": "python3"
  },
  "language_info": {
   "codemirror_mode": {
    "name": "ipython",
    "version": 3
   },
   "file_extension": ".py",
   "mimetype": "text/x-python",
   "name": "python",
   "nbconvert_exporter": "python",
   "pygments_lexer": "ipython3",
   "version": "3.12.7"
  }
 },
 "nbformat": 4,
 "nbformat_minor": 4
}
